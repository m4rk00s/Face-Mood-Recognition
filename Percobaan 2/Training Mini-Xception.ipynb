{
  "nbformat": 4,
  "nbformat_minor": 0,
  "metadata": {
    "colab": {
      "name": "Face Expression Recognition.ipynb",
      "version": "0.3.2",
      "provenance": [],
      "collapsed_sections": []
    },
    "kernelspec": {
      "name": "python3",
      "display_name": "Python 3"
    },
    "accelerator": "GPU"
  },
  "cells": [
    {
      "cell_type": "code",
      "metadata": {
        "id": "gkqzJFT7VIzb",
        "colab_type": "code",
        "outputId": "00aa1d1c-586b-462f-fb7d-1923378d5a2b",
        "colab": {
          "base_uri": "https://localhost:8080/",
          "height": 124
        }
      },
      "source": [
        "from google.colab import drive\n",
        "drive.mount('/content/drive')"
      ],
      "execution_count": 0,
      "outputs": [
        {
          "output_type": "stream",
          "text": [
            "Go to this URL in a browser: https://accounts.google.com/o/oauth2/auth?client_id=947318989803-6bn6qk8qdgf4n4g3pfee6491hc0brc4i.apps.googleusercontent.com&redirect_uri=urn%3Aietf%3Awg%3Aoauth%3A2.0%3Aoob&scope=email%20https%3A%2F%2Fwww.googleapis.com%2Fauth%2Fdocs.test%20https%3A%2F%2Fwww.googleapis.com%2Fauth%2Fdrive%20https%3A%2F%2Fwww.googleapis.com%2Fauth%2Fdrive.photos.readonly%20https%3A%2F%2Fwww.googleapis.com%2Fauth%2Fpeopleapi.readonly&response_type=code\n",
            "\n",
            "Enter your authorization code:\n",
            "··········\n",
            "Mounted at /content/drive\n"
          ],
          "name": "stdout"
        }
      ]
    },
    {
      "cell_type": "code",
      "metadata": {
        "id": "fHP03UAzd9jd",
        "colab_type": "code",
        "outputId": "8aea73c9-a652-49ce-e096-b4e54de4c4ec",
        "colab": {
          "base_uri": "https://localhost:8080/",
          "height": 300
        }
      },
      "source": [
        "import pandas as pd\n",
        "\n",
        "df = pd.read_csv('/content/drive/My Drive/face/fer2013/fer2013.csv')\n",
        "grouped = df.groupby('emotion')\n",
        "res = grouped['pixels'].agg(['count'])\n",
        "res"
      ],
      "execution_count": 0,
      "outputs": [
        {
          "output_type": "execute_result",
          "data": {
            "text/html": [
              "<div>\n",
              "<style scoped>\n",
              "    .dataframe tbody tr th:only-of-type {\n",
              "        vertical-align: middle;\n",
              "    }\n",
              "\n",
              "    .dataframe tbody tr th {\n",
              "        vertical-align: top;\n",
              "    }\n",
              "\n",
              "    .dataframe thead th {\n",
              "        text-align: right;\n",
              "    }\n",
              "</style>\n",
              "<table border=\"1\" class=\"dataframe\">\n",
              "  <thead>\n",
              "    <tr style=\"text-align: right;\">\n",
              "      <th></th>\n",
              "      <th>count</th>\n",
              "    </tr>\n",
              "    <tr>\n",
              "      <th>emotion</th>\n",
              "      <th></th>\n",
              "    </tr>\n",
              "  </thead>\n",
              "  <tbody>\n",
              "    <tr>\n",
              "      <th>0</th>\n",
              "      <td>4953</td>\n",
              "    </tr>\n",
              "    <tr>\n",
              "      <th>1</th>\n",
              "      <td>547</td>\n",
              "    </tr>\n",
              "    <tr>\n",
              "      <th>2</th>\n",
              "      <td>5121</td>\n",
              "    </tr>\n",
              "    <tr>\n",
              "      <th>3</th>\n",
              "      <td>8989</td>\n",
              "    </tr>\n",
              "    <tr>\n",
              "      <th>4</th>\n",
              "      <td>6077</td>\n",
              "    </tr>\n",
              "    <tr>\n",
              "      <th>5</th>\n",
              "      <td>4002</td>\n",
              "    </tr>\n",
              "    <tr>\n",
              "      <th>6</th>\n",
              "      <td>6198</td>\n",
              "    </tr>\n",
              "  </tbody>\n",
              "</table>\n",
              "</div>"
            ],
            "text/plain": [
              "         count\n",
              "emotion       \n",
              "0         4953\n",
              "1          547\n",
              "2         5121\n",
              "3         8989\n",
              "4         6077\n",
              "5         4002\n",
              "6         6198"
            ]
          },
          "metadata": {
            "tags": []
          },
          "execution_count": 2
        }
      ]
    },
    {
      "cell_type": "code",
      "metadata": {
        "id": "VcgPRbwse4L2",
        "colab_type": "code",
        "colab": {}
      },
      "source": [
        "list_emotions = ['Angry', 'Disgust', 'Fear', \n",
        "                 'Happy', 'Sad', 'Surprise', 'Neutral']"
      ],
      "execution_count": 0,
      "outputs": []
    },
    {
      "cell_type": "code",
      "metadata": {
        "id": "0AcsY-0afn37",
        "colab_type": "code",
        "colab": {}
      },
      "source": [
        "# pixels = df['pixels'].tolist()"
      ],
      "execution_count": 0,
      "outputs": []
    },
    {
      "cell_type": "code",
      "metadata": {
        "id": "3EEncGGKfsio",
        "colab_type": "code",
        "colab": {}
      },
      "source": [
        "# pixels[:5]"
      ],
      "execution_count": 0,
      "outputs": []
    },
    {
      "cell_type": "code",
      "metadata": {
        "id": "CbGGRCiAfwHo",
        "colab_type": "code",
        "colab": {}
      },
      "source": [
        "# import numpy as np\n",
        "# import cv2\n",
        "\n",
        "# width, height = 48, 48\n",
        "\n",
        "# X = []\n",
        "\n",
        "# for pixel_sequence in pixels:\n",
        "#     face = [int(pixel) for pixel in pixel_sequence.split(' ')]\n",
        "#     face = np.array(face).reshape(width, height)\n",
        "#     X.append(face)\n",
        "    \n",
        "# X = np.array(X)\n",
        "# X.shape"
      ],
      "execution_count": 0,
      "outputs": []
    },
    {
      "cell_type": "code",
      "metadata": {
        "id": "cRP26tjdgCfR",
        "colab_type": "code",
        "colab": {}
      },
      "source": [
        "# labels = df['emotion'].tolist()"
      ],
      "execution_count": 0,
      "outputs": []
    },
    {
      "cell_type": "code",
      "metadata": {
        "id": "h7KqxiSQk3pV",
        "colab_type": "code",
        "colab": {}
      },
      "source": [
        "# y = np.array(labels)\n",
        "# y.shape"
      ],
      "execution_count": 0,
      "outputs": []
    },
    {
      "cell_type": "code",
      "metadata": {
        "id": "zB0sivZTlBDj",
        "colab_type": "code",
        "colab": {}
      },
      "source": [
        "# np.save('data_face', X)"
      ],
      "execution_count": 0,
      "outputs": []
    },
    {
      "cell_type": "code",
      "metadata": {
        "id": "FRk23jUPlfD2",
        "colab_type": "code",
        "colab": {}
      },
      "source": [
        "# np.save('labels_face', y)"
      ],
      "execution_count": 0,
      "outputs": []
    },
    {
      "cell_type": "code",
      "metadata": {
        "id": "1NrtscuqliAa",
        "colab_type": "code",
        "colab": {}
      },
      "source": [
        "# !cp 'labels_face.npy' '/content/drive/My Drive/face'"
      ],
      "execution_count": 0,
      "outputs": []
    },
    {
      "cell_type": "code",
      "metadata": {
        "id": "e2dDn2wClsEd",
        "colab_type": "code",
        "colab": {}
      },
      "source": [
        "import numpy as np\n",
        "\n",
        "X = np.load('/content/drive/My Drive/face/data_face.npy')\n",
        "y = np.load('/content/drive/My Drive/face/labels_face.npy')"
      ],
      "execution_count": 0,
      "outputs": []
    },
    {
      "cell_type": "code",
      "metadata": {
        "id": "gfJbJlRhsI4y",
        "colab_type": "code",
        "outputId": "cd1afe7e-048f-4178-e1f0-13ee3b3212fe",
        "colab": {
          "base_uri": "https://localhost:8080/",
          "height": 34
        }
      },
      "source": [
        "from keras.utils import to_categorical\n",
        "\n",
        "# reshape jadi 4 rank\n",
        "X = X.reshape(-1, 48, 48, 1)\n",
        "\n",
        "# biar bisa jalan\n",
        "y = to_categorical(y)\n"
      ],
      "execution_count": 0,
      "outputs": [
        {
          "output_type": "stream",
          "text": [
            "Using TensorFlow backend.\n"
          ],
          "name": "stderr"
        }
      ]
    },
    {
      "cell_type": "code",
      "metadata": {
        "id": "G_Nb7gbwuTn2",
        "colab_type": "code",
        "colab": {}
      },
      "source": [
        "from tensorflow.keras.callbacks import CSVLogger, ModelCheckpoint, EarlyStopping\n",
        "from tensorflow.keras.callbacks import ReduceLROnPlateau\n",
        "from tensorflow.keras.preprocessing.image import ImageDataGenerator\n",
        "from sklearn.model_selection import train_test_split\n",
        "from tensorflow.keras.layers import Activation, Convolution2D, Dropout, Conv2D\n",
        "from tensorflow.keras.layers import AveragePooling2D, BatchNormalization\n",
        "from tensorflow.keras.layers import GlobalAveragePooling2D\n",
        "from tensorflow.keras.models import Sequential\n",
        "from tensorflow.keras.layers import Flatten\n",
        "from tensorflow.keras.models import Model\n",
        "from tensorflow.keras.layers import Input\n",
        "from tensorflow.keras.layers import MaxPooling2D\n",
        "from tensorflow.keras.layers import SeparableConv2D\n",
        "from tensorflow.keras import layers\n",
        "from tensorflow.keras.regularizers import l2\n",
        "import pandas as pd\n",
        "import cv2\n",
        "import numpy as np"
      ],
      "execution_count": 0,
      "outputs": []
    },
    {
      "cell_type": "code",
      "metadata": {
        "id": "8tpNAJOYvOoI",
        "colab_type": "code",
        "colab": {}
      },
      "source": [
        "# data generator\n",
        "data_generator = ImageDataGenerator(\n",
        "                        featurewise_center=False,\n",
        "                        featurewise_std_normalization=False,\n",
        "                        rotation_range=10,\n",
        "                        width_shift_range=0.1,\n",
        "                        height_shift_range=0.1,\n",
        "                        zoom_range=.1,\n",
        "                        horizontal_flip=True,\n",
        "                        validation_split=0.25,\n",
        "                        rescale=1./255.\n",
        ")\n",
        "\n",
        "# parameters\n",
        "batch_size = 32\n",
        "num_epochs = 110\n",
        "input_shape = (48, 48, 1)\n",
        "verbose = 1\n",
        "num_classes = 7\n",
        "patience = 50\n",
        "base_path = 'models/'\n",
        "l2_regularization=0.01\n",
        "\n",
        "train_generator = data_generator.flow(\n",
        "    X,\n",
        "    y,\n",
        "    batch_size=batch_size,\n",
        "    shuffle=True,\n",
        "    subset='training'\n",
        ")\n",
        "\n",
        "valid_generator = data_generator.flow(\n",
        "    X,\n",
        "    y,\n",
        "    batch_size=batch_size,\n",
        "    shuffle=True,\n",
        "    subset='validation'\n",
        ")"
      ],
      "execution_count": 0,
      "outputs": []
    },
    {
      "cell_type": "code",
      "metadata": {
        "id": "breIO2LUsYGQ",
        "colab_type": "code",
        "outputId": "9b3f07ce-a5c5-4bb6-805b-86420db19af9",
        "colab": {
          "base_uri": "https://localhost:8080/",
          "height": 1000
        }
      },
      "source": [
        "# parameters\n",
        "batch_size = 32\n",
        "num_epochs = 50\n",
        "input_shape = (48, 48, 1)\n",
        "verbose = 1\n",
        "num_classes = 7\n",
        "patience = 50\n",
        "base_path = 'models/'\n",
        "l2_regularization=0.01\n",
        " \n",
        "# model parameters\n",
        "regularization = l2(l2_regularization)\n",
        " \n",
        "# base\n",
        "img_input = Input(input_shape)\n",
        "x = Conv2D(8, (3, 3), strides=(1, 1), kernel_regularizer=regularization, use_bias=False)(img_input)\n",
        "x = BatchNormalization()(x)\n",
        "x = Activation('relu')(x)\n",
        "x = Conv2D(8, (3, 3), strides=(1, 1), kernel_regularizer=regularization, use_bias=False)(x)\n",
        "x = BatchNormalization()(x)\n",
        "x = Activation('relu')(x)\n",
        " \n",
        "# module 1\n",
        "residual = Conv2D(16, (1, 1), strides=(2, 2), padding='same', use_bias=False)(x)\n",
        "residual = BatchNormalization()(residual)\n",
        "x = SeparableConv2D(16, (3, 3), padding='same', kernel_regularizer=regularization, use_bias=False)(x)\n",
        "x = BatchNormalization()(x)\n",
        "x = Activation('relu')(x)\n",
        "x = SeparableConv2D(16, (3, 3), padding='same', kernel_regularizer=regularization, use_bias=False)(x)\n",
        "x = BatchNormalization()(x)\n",
        "x = MaxPooling2D((3, 3), strides=(2, 2), padding='same')(x)\n",
        "x = layers.add([x, residual])\n",
        " \n",
        "# module 2\n",
        "residual = Conv2D(32, (1, 1), strides=(2, 2), padding='same', use_bias=False)(x)\n",
        "residual = BatchNormalization()(residual)\n",
        "x = SeparableConv2D(32, (3, 3), padding='same', kernel_regularizer=regularization, use_bias=False)(x)\n",
        "x = BatchNormalization()(x)\n",
        "x = Activation('relu')(x)\n",
        "x = SeparableConv2D(32, (3, 3), padding='same', kernel_regularizer=regularization, use_bias=False)(x)\n",
        "x = BatchNormalization()(x)\n",
        "x = MaxPooling2D((3, 3), strides=(2, 2), padding='same')(x)\n",
        "x = layers.add([x, residual])\n",
        " \n",
        "# module 3\n",
        "residual = Conv2D(64, (1, 1), strides=(2, 2),padding='same', use_bias=False)(x)\n",
        "residual = BatchNormalization()(residual)\n",
        "x = SeparableConv2D(64, (3, 3), padding='same',kernel_regularizer=regularization,use_bias=False)(x)\n",
        "x = BatchNormalization()(x)\n",
        "x = Activation('relu')(x)\n",
        "x = SeparableConv2D(64, (3, 3), padding='same',kernel_regularizer=regularization,use_bias=False)(x)\n",
        "x = BatchNormalization()(x)\n",
        "x = MaxPooling2D((3, 3), strides=(2, 2), padding='same')(x)\n",
        "x = layers.add([x, residual])\n",
        " \n",
        "# module 4\n",
        "residual = Conv2D(128, (1, 1), strides=(2, 2),padding='same', use_bias=False)(x)\n",
        "residual = BatchNormalization()(residual)\n",
        "x = SeparableConv2D(128, (3, 3), padding='same',kernel_regularizer=regularization,use_bias=False)(x)\n",
        "x = BatchNormalization()(x)\n",
        "x = Activation('relu')(x)\n",
        "x = SeparableConv2D(128, (3, 3), padding='same',kernel_regularizer=regularization,use_bias=False)(x)\n",
        "x = BatchNormalization()(x)\n",
        "x = MaxPooling2D((3, 3), strides=(2, 2), padding='same')(x)\n",
        "x = layers.add([x, residual])\n",
        "x = Conv2D(num_classes, (3, 3), padding='same')(x)\n",
        "x = GlobalAveragePooling2D()(x)\n",
        "output = Activation('softmax',name='predictions')(x)\n",
        " \n",
        "model = Model(img_input, output)\n",
        "model.compile(optimizer='adam', loss='categorical_crossentropy',metrics=['accuracy'])\n",
        "model.summary()"
      ],
      "execution_count": 0,
      "outputs": [
        {
          "output_type": "stream",
          "text": [
            "WARNING: Logging before flag parsing goes to stderr.\n",
            "W0824 05:11:46.331550 140650608134016 deprecation.py:506] From /usr/local/lib/python3.6/dist-packages/tensorflow/python/ops/init_ops.py:1251: calling VarianceScaling.__init__ (from tensorflow.python.ops.init_ops) with dtype is deprecated and will be removed in a future version.\n",
            "Instructions for updating:\n",
            "Call initializer instance with the dtype argument instead of passing it to the constructor\n"
          ],
          "name": "stderr"
        },
        {
          "output_type": "stream",
          "text": [
            "Model: \"model\"\n",
            "__________________________________________________________________________________________________\n",
            "Layer (type)                    Output Shape         Param #     Connected to                     \n",
            "==================================================================================================\n",
            "input_1 (InputLayer)            [(None, 48, 48, 1)]  0                                            \n",
            "__________________________________________________________________________________________________\n",
            "conv2d (Conv2D)                 (None, 46, 46, 8)    72          input_1[0][0]                    \n",
            "__________________________________________________________________________________________________\n",
            "batch_normalization (BatchNorma (None, 46, 46, 8)    32          conv2d[0][0]                     \n",
            "__________________________________________________________________________________________________\n",
            "activation (Activation)         (None, 46, 46, 8)    0           batch_normalization[0][0]        \n",
            "__________________________________________________________________________________________________\n",
            "conv2d_1 (Conv2D)               (None, 44, 44, 8)    576         activation[0][0]                 \n",
            "__________________________________________________________________________________________________\n",
            "batch_normalization_1 (BatchNor (None, 44, 44, 8)    32          conv2d_1[0][0]                   \n",
            "__________________________________________________________________________________________________\n",
            "activation_1 (Activation)       (None, 44, 44, 8)    0           batch_normalization_1[0][0]      \n",
            "__________________________________________________________________________________________________\n",
            "separable_conv2d (SeparableConv (None, 44, 44, 16)   200         activation_1[0][0]               \n",
            "__________________________________________________________________________________________________\n",
            "batch_normalization_3 (BatchNor (None, 44, 44, 16)   64          separable_conv2d[0][0]           \n",
            "__________________________________________________________________________________________________\n",
            "activation_2 (Activation)       (None, 44, 44, 16)   0           batch_normalization_3[0][0]      \n",
            "__________________________________________________________________________________________________\n",
            "separable_conv2d_1 (SeparableCo (None, 44, 44, 16)   400         activation_2[0][0]               \n",
            "__________________________________________________________________________________________________\n",
            "batch_normalization_4 (BatchNor (None, 44, 44, 16)   64          separable_conv2d_1[0][0]         \n",
            "__________________________________________________________________________________________________\n",
            "conv2d_2 (Conv2D)               (None, 22, 22, 16)   128         activation_1[0][0]               \n",
            "__________________________________________________________________________________________________\n",
            "max_pooling2d (MaxPooling2D)    (None, 22, 22, 16)   0           batch_normalization_4[0][0]      \n",
            "__________________________________________________________________________________________________\n",
            "batch_normalization_2 (BatchNor (None, 22, 22, 16)   64          conv2d_2[0][0]                   \n",
            "__________________________________________________________________________________________________\n",
            "add (Add)                       (None, 22, 22, 16)   0           max_pooling2d[0][0]              \n",
            "                                                                 batch_normalization_2[0][0]      \n",
            "__________________________________________________________________________________________________\n",
            "separable_conv2d_2 (SeparableCo (None, 22, 22, 32)   656         add[0][0]                        \n",
            "__________________________________________________________________________________________________\n",
            "batch_normalization_6 (BatchNor (None, 22, 22, 32)   128         separable_conv2d_2[0][0]         \n",
            "__________________________________________________________________________________________________\n",
            "activation_3 (Activation)       (None, 22, 22, 32)   0           batch_normalization_6[0][0]      \n",
            "__________________________________________________________________________________________________\n",
            "separable_conv2d_3 (SeparableCo (None, 22, 22, 32)   1312        activation_3[0][0]               \n",
            "__________________________________________________________________________________________________\n",
            "batch_normalization_7 (BatchNor (None, 22, 22, 32)   128         separable_conv2d_3[0][0]         \n",
            "__________________________________________________________________________________________________\n",
            "conv2d_3 (Conv2D)               (None, 11, 11, 32)   512         add[0][0]                        \n",
            "__________________________________________________________________________________________________\n",
            "max_pooling2d_1 (MaxPooling2D)  (None, 11, 11, 32)   0           batch_normalization_7[0][0]      \n",
            "__________________________________________________________________________________________________\n",
            "batch_normalization_5 (BatchNor (None, 11, 11, 32)   128         conv2d_3[0][0]                   \n",
            "__________________________________________________________________________________________________\n",
            "add_1 (Add)                     (None, 11, 11, 32)   0           max_pooling2d_1[0][0]            \n",
            "                                                                 batch_normalization_5[0][0]      \n",
            "__________________________________________________________________________________________________\n",
            "separable_conv2d_4 (SeparableCo (None, 11, 11, 64)   2336        add_1[0][0]                      \n",
            "__________________________________________________________________________________________________\n",
            "batch_normalization_9 (BatchNor (None, 11, 11, 64)   256         separable_conv2d_4[0][0]         \n",
            "__________________________________________________________________________________________________\n",
            "activation_4 (Activation)       (None, 11, 11, 64)   0           batch_normalization_9[0][0]      \n",
            "__________________________________________________________________________________________________\n",
            "separable_conv2d_5 (SeparableCo (None, 11, 11, 64)   4672        activation_4[0][0]               \n",
            "__________________________________________________________________________________________________\n",
            "batch_normalization_10 (BatchNo (None, 11, 11, 64)   256         separable_conv2d_5[0][0]         \n",
            "__________________________________________________________________________________________________\n",
            "conv2d_4 (Conv2D)               (None, 6, 6, 64)     2048        add_1[0][0]                      \n",
            "__________________________________________________________________________________________________\n",
            "max_pooling2d_2 (MaxPooling2D)  (None, 6, 6, 64)     0           batch_normalization_10[0][0]     \n",
            "__________________________________________________________________________________________________\n",
            "batch_normalization_8 (BatchNor (None, 6, 6, 64)     256         conv2d_4[0][0]                   \n",
            "__________________________________________________________________________________________________\n",
            "add_2 (Add)                     (None, 6, 6, 64)     0           max_pooling2d_2[0][0]            \n",
            "                                                                 batch_normalization_8[0][0]      \n",
            "__________________________________________________________________________________________________\n",
            "separable_conv2d_6 (SeparableCo (None, 6, 6, 128)    8768        add_2[0][0]                      \n",
            "__________________________________________________________________________________________________\n",
            "batch_normalization_12 (BatchNo (None, 6, 6, 128)    512         separable_conv2d_6[0][0]         \n",
            "__________________________________________________________________________________________________\n",
            "activation_5 (Activation)       (None, 6, 6, 128)    0           batch_normalization_12[0][0]     \n",
            "__________________________________________________________________________________________________\n",
            "separable_conv2d_7 (SeparableCo (None, 6, 6, 128)    17536       activation_5[0][0]               \n",
            "__________________________________________________________________________________________________\n",
            "batch_normalization_13 (BatchNo (None, 6, 6, 128)    512         separable_conv2d_7[0][0]         \n",
            "__________________________________________________________________________________________________\n",
            "conv2d_5 (Conv2D)               (None, 3, 3, 128)    8192        add_2[0][0]                      \n",
            "__________________________________________________________________________________________________\n",
            "max_pooling2d_3 (MaxPooling2D)  (None, 3, 3, 128)    0           batch_normalization_13[0][0]     \n",
            "__________________________________________________________________________________________________\n",
            "batch_normalization_11 (BatchNo (None, 3, 3, 128)    512         conv2d_5[0][0]                   \n",
            "__________________________________________________________________________________________________\n",
            "add_3 (Add)                     (None, 3, 3, 128)    0           max_pooling2d_3[0][0]            \n",
            "                                                                 batch_normalization_11[0][0]     \n",
            "__________________________________________________________________________________________________\n",
            "conv2d_6 (Conv2D)               (None, 3, 3, 7)      8071        add_3[0][0]                      \n",
            "__________________________________________________________________________________________________\n",
            "global_average_pooling2d (Globa (None, 7)            0           conv2d_6[0][0]                   \n",
            "__________________________________________________________________________________________________\n",
            "predictions (Activation)        (None, 7)            0           global_average_pooling2d[0][0]   \n",
            "==================================================================================================\n",
            "Total params: 58,423\n",
            "Trainable params: 56,951\n",
            "Non-trainable params: 1,472\n",
            "__________________________________________________________________________________________________\n"
          ],
          "name": "stdout"
        }
      ]
    },
    {
      "cell_type": "code",
      "metadata": {
        "id": "SWhBCxxPxbyW",
        "colab_type": "code",
        "outputId": "0dc8330e-dd98-459b-c677-d5761ff0611c",
        "colab": {
          "base_uri": "https://localhost:8080/",
          "height": 1000
        }
      },
      "source": [
        "# callbacks\n",
        "# log_file_path = base_path + '_emotion_training.log'\n",
        "# csv_logger = CSVLogger(log_file_path, append=False)\n",
        "# early_stop = EarlyStopping('val_loss', patience=patience)\n",
        "# reduce_lr = ReduceLROnPlateau('val_loss', factor=0.1, patience=int(patience/4), verbose=1)\n",
        "# trained_models_path = base_path + '_mini_XCEPTION'\n",
        "# model_names = trained_models_path + '.{epoch:02d}-{val_acc:.2f}.hdf5'\n",
        "# model_checkpoint = ModelCheckpoint(model_names, 'val_loss', verbose=1,save_best_only=True)\n",
        "# callbacks = [model_checkpoint, csv_logger, early_stop, reduce_lr] \n",
        "    \n",
        "STEP_SIZE_TRAIN = train_generator.n // train_generator.batch_size\n",
        "STEP_SIZE_VALID = valid_generator.n // valid_generator.batch_size\n",
        "\n",
        "history = model.fit_generator(generator=train_generator,\n",
        "                              steps_per_epoch=STEP_SIZE_TRAIN,\n",
        "                              validation_data=valid_generator,\n",
        "                              validation_steps=STEP_SIZE_VALID,\n",
        "                              epochs=num_epochs,\n",
        "                              verbose=1,\n",
        ")\n",
        "\n",
        "# model.fit_generator(data_generator.flow(X, y, batch_size),\n",
        "#                         steps_per_epoch=len(xtrain) / batch_size,\n",
        "#                         epochs=num_epochs, verbose=1, callbacks=callbacks,\n",
        "#                         validation_data=(xtest,ytest))"
      ],
      "execution_count": 0,
      "outputs": [
        {
          "output_type": "stream",
          "text": [
            "Epoch 1/50\n",
            "841/841 [==============================] - 42s 50ms/step - loss: 1.8029 - acc: 0.3114 - val_loss: 1.8106 - val_acc: 0.3092\n",
            "Epoch 2/50\n",
            "841/841 [==============================] - 37s 44ms/step - loss: 1.5442 - acc: 0.4193 - val_loss: 1.5583 - val_acc: 0.4109\n",
            "Epoch 3/50\n",
            "841/841 [==============================] - 36s 43ms/step - loss: 1.4190 - acc: 0.4664 - val_loss: 1.4514 - val_acc: 0.4527\n",
            "Epoch 4/50\n",
            "841/841 [==============================] - 36s 43ms/step - loss: 1.3462 - acc: 0.4943 - val_loss: 1.3833 - val_acc: 0.4852\n",
            "Epoch 5/50\n",
            "841/841 [==============================] - 36s 43ms/step - loss: 1.2874 - acc: 0.5163 - val_loss: 1.4291 - val_acc: 0.4741\n",
            "Epoch 6/50\n",
            "841/841 [==============================] - 36s 43ms/step - loss: 1.2602 - acc: 0.5245 - val_loss: 1.2582 - val_acc: 0.5273\n",
            "Epoch 7/50\n",
            "841/841 [==============================] - 36s 43ms/step - loss: 1.2267 - acc: 0.5409 - val_loss: 1.2574 - val_acc: 0.5250\n",
            "Epoch 8/50\n",
            "841/841 [==============================] - 36s 43ms/step - loss: 1.2092 - acc: 0.5485 - val_loss: 1.3180 - val_acc: 0.5118\n",
            "Epoch 9/50\n",
            "841/841 [==============================] - 36s 43ms/step - loss: 1.1852 - acc: 0.5533 - val_loss: 1.2308 - val_acc: 0.5404\n",
            "Epoch 10/50\n",
            "841/841 [==============================] - 36s 43ms/step - loss: 1.1661 - acc: 0.5584 - val_loss: 1.2046 - val_acc: 0.5506\n",
            "Epoch 11/50\n",
            "841/841 [==============================] - 37s 43ms/step - loss: 1.1558 - acc: 0.5663 - val_loss: 1.2510 - val_acc: 0.5308\n",
            "Epoch 12/50\n",
            "841/841 [==============================] - 36s 43ms/step - loss: 1.1427 - acc: 0.5705 - val_loss: 1.2095 - val_acc: 0.5500\n",
            "Epoch 13/50\n",
            "841/841 [==============================] - 36s 43ms/step - loss: 1.1253 - acc: 0.5778 - val_loss: 1.1717 - val_acc: 0.5665\n",
            "Epoch 14/50\n",
            "841/841 [==============================] - 36s 43ms/step - loss: 1.1168 - acc: 0.5827 - val_loss: 1.1936 - val_acc: 0.5504\n",
            "Epoch 15/50\n",
            "841/841 [==============================] - 36s 43ms/step - loss: 1.1035 - acc: 0.5888 - val_loss: 1.1828 - val_acc: 0.5539\n",
            "Epoch 16/50\n",
            "841/841 [==============================] - 36s 43ms/step - loss: 1.0940 - acc: 0.5889 - val_loss: 1.1460 - val_acc: 0.5751\n",
            "Epoch 17/50\n",
            "841/841 [==============================] - 36s 43ms/step - loss: 1.0909 - acc: 0.5957 - val_loss: 1.1434 - val_acc: 0.5760\n",
            "Epoch 18/50\n",
            "841/841 [==============================] - 36s 43ms/step - loss: 1.0768 - acc: 0.5966 - val_loss: 1.1623 - val_acc: 0.5735\n",
            "Epoch 19/50\n",
            "841/841 [==============================] - 36s 43ms/step - loss: 1.0759 - acc: 0.5965 - val_loss: 1.1291 - val_acc: 0.5753\n",
            "Epoch 20/50\n",
            "841/841 [==============================] - 36s 43ms/step - loss: 1.0643 - acc: 0.6038 - val_loss: 1.1432 - val_acc: 0.5614\n",
            "Epoch 21/50\n",
            "841/841 [==============================] - 36s 43ms/step - loss: 1.0601 - acc: 0.6080 - val_loss: 1.2352 - val_acc: 0.5470\n",
            "Epoch 22/50\n",
            "841/841 [==============================] - 36s 42ms/step - loss: 1.0553 - acc: 0.6070 - val_loss: 1.1454 - val_acc: 0.5752\n",
            "Epoch 23/50\n",
            "841/841 [==============================] - 36s 43ms/step - loss: 1.0465 - acc: 0.6072 - val_loss: 1.1505 - val_acc: 0.5677\n",
            "Epoch 24/50\n",
            "841/841 [==============================] - 36s 43ms/step - loss: 1.0431 - acc: 0.6120 - val_loss: 1.1183 - val_acc: 0.5843\n",
            "Epoch 25/50\n",
            "841/841 [==============================] - 36s 43ms/step - loss: 1.0396 - acc: 0.6142 - val_loss: 1.1156 - val_acc: 0.5846\n",
            "Epoch 26/50\n",
            "841/841 [==============================] - 36s 43ms/step - loss: 1.0347 - acc: 0.6127 - val_loss: 1.1255 - val_acc: 0.5806\n",
            "Epoch 27/50\n",
            "841/841 [==============================] - 36s 43ms/step - loss: 1.0271 - acc: 0.6139 - val_loss: 1.1175 - val_acc: 0.5798\n",
            "Epoch 28/50\n",
            "841/841 [==============================] - 36s 43ms/step - loss: 1.0218 - acc: 0.6172 - val_loss: 1.1501 - val_acc: 0.5766\n",
            "Epoch 29/50\n",
            "841/841 [==============================] - 36s 43ms/step - loss: 1.0145 - acc: 0.6184 - val_loss: 1.1347 - val_acc: 0.5721\n",
            "Epoch 30/50\n",
            "841/841 [==============================] - 36s 43ms/step - loss: 1.0159 - acc: 0.6243 - val_loss: 1.1202 - val_acc: 0.5780\n",
            "Epoch 31/50\n",
            "841/841 [==============================] - 36s 43ms/step - loss: 1.0056 - acc: 0.6242 - val_loss: 1.1606 - val_acc: 0.5527\n",
            "Epoch 32/50\n",
            "841/841 [==============================] - 36s 43ms/step - loss: 1.0040 - acc: 0.6248 - val_loss: 1.1312 - val_acc: 0.5775\n",
            "Epoch 33/50\n",
            "841/841 [==============================] - 36s 43ms/step - loss: 1.0016 - acc: 0.6286 - val_loss: 1.1003 - val_acc: 0.5921\n",
            "Epoch 34/50\n",
            "841/841 [==============================] - 36s 43ms/step - loss: 1.0004 - acc: 0.6293 - val_loss: 1.1345 - val_acc: 0.5818\n",
            "Epoch 35/50\n",
            "841/841 [==============================] - 36s 43ms/step - loss: 0.9941 - acc: 0.6289 - val_loss: 1.1117 - val_acc: 0.5884\n",
            "Epoch 36/50\n",
            "841/841 [==============================] - 36s 43ms/step - loss: 0.9966 - acc: 0.6264 - val_loss: 1.1130 - val_acc: 0.5863\n",
            "Epoch 37/50\n",
            "841/841 [==============================] - 36s 43ms/step - loss: 0.9832 - acc: 0.6355 - val_loss: 1.1145 - val_acc: 0.5854\n",
            "Epoch 38/50\n",
            "841/841 [==============================] - 36s 43ms/step - loss: 0.9777 - acc: 0.6358 - val_loss: 1.1258 - val_acc: 0.5923\n",
            "Epoch 39/50\n",
            "841/841 [==============================] - 36s 43ms/step - loss: 0.9785 - acc: 0.6377 - val_loss: 1.0926 - val_acc: 0.5987\n",
            "Epoch 40/50\n",
            "841/841 [==============================] - 37s 44ms/step - loss: 0.9803 - acc: 0.6367 - val_loss: 1.1297 - val_acc: 0.5849\n",
            "Epoch 41/50\n",
            "841/841 [==============================] - 36s 43ms/step - loss: 0.9757 - acc: 0.6359 - val_loss: 1.1330 - val_acc: 0.5860\n",
            "Epoch 42/50\n",
            "841/841 [==============================] - 36s 43ms/step - loss: 0.9706 - acc: 0.6391 - val_loss: 1.1043 - val_acc: 0.5828\n",
            "Epoch 43/50\n",
            "841/841 [==============================] - 36s 43ms/step - loss: 0.9657 - acc: 0.6383 - val_loss: 1.1140 - val_acc: 0.5934\n",
            "Epoch 44/50\n",
            "841/841 [==============================] - 36s 43ms/step - loss: 0.9676 - acc: 0.6388 - val_loss: 1.1130 - val_acc: 0.5903\n",
            "Epoch 45/50\n",
            "841/841 [==============================] - 36s 43ms/step - loss: 0.9605 - acc: 0.6422 - val_loss: 1.0812 - val_acc: 0.5943\n",
            "Epoch 46/50\n",
            "841/841 [==============================] - 36s 43ms/step - loss: 0.9623 - acc: 0.6434 - val_loss: 1.1430 - val_acc: 0.5644\n",
            "Epoch 47/50\n",
            "841/841 [==============================] - 36s 43ms/step - loss: 0.9595 - acc: 0.6424 - val_loss: 1.0975 - val_acc: 0.5981\n",
            "Epoch 48/50\n",
            "841/841 [==============================] - 36s 43ms/step - loss: 0.9555 - acc: 0.6447 - val_loss: 1.0802 - val_acc: 0.6044\n",
            "Epoch 49/50\n",
            "841/841 [==============================] - 36s 43ms/step - loss: 0.9483 - acc: 0.6473 - val_loss: 1.1044 - val_acc: 0.5921\n",
            "Epoch 50/50\n",
            "841/841 [==============================] - 36s 43ms/step - loss: 0.9531 - acc: 0.6436 - val_loss: 1.0730 - val_acc: 0.5956\n"
          ],
          "name": "stdout"
        }
      ]
    },
    {
      "cell_type": "code",
      "metadata": {
        "id": "F__ND1azxrCG",
        "colab_type": "code",
        "outputId": "5177b928-44d2-4b07-f352-79807415ed27",
        "colab": {
          "base_uri": "https://localhost:8080/",
          "height": 34
        }
      },
      "source": [
        "# serialize model to JSON\n",
        "model_json = model.to_json()\n",
        "with open(\"model.json\", \"w\") as json_file:\n",
        "    json_file.write(model_json)\n",
        "# serialize weights to HDF5\n",
        "model.save_weights(\"model.h5\")\n",
        "print(\"Saved model to disk\")"
      ],
      "execution_count": 0,
      "outputs": [
        {
          "output_type": "stream",
          "text": [
            "Saved model to disk\n"
          ],
          "name": "stdout"
        }
      ]
    },
    {
      "cell_type": "code",
      "metadata": {
        "id": "7mOCbNdADApO",
        "colab_type": "code",
        "outputId": "aef905a7-e0f7-4eb5-eaf8-cbc552e61168",
        "colab": {
          "base_uri": "https://localhost:8080/",
          "height": 295
        }
      },
      "source": [
        "import matplotlib.pyplot as plt\n",
        "\n",
        "# summarize history for accuracy\n",
        "plt.plot(history.history['acc'])\n",
        "plt.plot(history.history['val_acc'])\n",
        "plt.title('model accuracy')\n",
        "plt.ylabel('accuracy')\n",
        "plt.xlabel('epoch')\n",
        "plt.legend(['train', 'test'], loc='upper left')\n",
        "plt.show()"
      ],
      "execution_count": 0,
      "outputs": [
        {
          "output_type": "display_data",
          "data": {
            "image/png": "[encoded data removed]",
            "text/plain": [
              "<Figure size 432x288 with 1 Axes>"
            ]
          },
          "metadata": {
            "tags": []
          }
        }
      ]
    },
    {
      "cell_type": "code",
      "metadata": {
        "id": "tDQSXDefDDr6",
        "colab_type": "code",
        "outputId": "6935c650-25dd-4434-f404-69b3072cde33",
        "colab": {
          "base_uri": "https://localhost:8080/",
          "height": 295
        }
      },
      "source": [
        "# summarize history for loss\n",
        "plt.plot(history.history['loss'])\n",
        "plt.plot(history.history['val_loss'])\n",
        "plt.title('model loss')\n",
        "plt.ylabel('loss')\n",
        "plt.xlabel('epoch')\n",
        "plt.legend(['train', 'test'], loc='upper left')\n",
        "plt.show()"
      ],
      "execution_count": 0,
      "outputs": [
        {
          "output_type": "display_data",
          "data": {
            "image/png": "[encoded data removed]",
            "text/plain": [
              "<Figure size 432x288 with 1 Axes>"
            ]
          },
          "metadata": {
            "tags": []
          }
        }
      ]
    },
    {
      "cell_type": "code",
      "metadata": {
        "id": "buFjLkHpDFiC",
        "colab_type": "code",
        "colab": {}
      },
      "source": [
        "!cp 'model.json' '/content/drive/My Drive/face'"
      ],
      "execution_count": 0,
      "outputs": []
    },
    {
      "cell_type": "code",
      "metadata": {
        "id": "aNAGjm9LJz5j",
        "colab_type": "code",
        "colab": {}
      },
      "source": [
        ""
      ],
      "execution_count": 0,
      "outputs": []
    }
  ]
}